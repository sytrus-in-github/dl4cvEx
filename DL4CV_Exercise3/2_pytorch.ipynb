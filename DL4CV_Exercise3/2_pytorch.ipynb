{
 "cells": [
  {
   "cell_type": "markdown",
   "metadata": {},
   "source": [
    "# PyTorch three layer Convolutional Neural Network (CNN)\n",
    "Now that you have implemented and understood all the necessary layers, we want to train a convolutional neural network. But training with our naive versions would not be feasible even for comparatively small networks. Since you already learned about losses, training procedures and solvers in the previous exercises we now want to introduce a modern deep learning framework called PyTorch (see `README.md` for installation help).\n",
    "\n",
    "These frameworks facilitate network training and prototyping by providing useful helper functions and optimized versions of the most common layers and solvers. Check out the following links to make yourself familiar with PyTorch and how to implement a small network. Keep in mind the network graph structure discussed in the lecture.\n",
    "\n",
    "http://pytorch.org/tutorials/\n",
    "\n",
    "https://github.com/pytorch/examples\n",
    "\n",
    "https://github.com/jcjohnson/pytorch-examples"
   ]
  },
  {
   "cell_type": "code",
   "execution_count": 1,
   "metadata": {
    "collapsed": true
   },
   "outputs": [],
   "source": [
    "import numpy as np\n",
    "import matplotlib.pyplot as plt\n",
    "import torch\n",
    "from torch.autograd import Variable\n",
    "\n",
    "from dl4cv.classifiers.cnn import ThreeLayerCNN\n",
    "from dl4cv.data_utils import get_CIFAR10_data, OverfitSampler\n",
    "from dl4cv.gradient_check import rel_error\n",
    "\n",
    "#torch.set_default_tensor_type('torch.FloatTensor')\n",
    "\n",
    "%matplotlib inline\n",
    "plt.rcParams['figure.figsize'] = (10.0, 8.0) # set default size of plots\n",
    "plt.rcParams['image.interpolation'] = 'nearest'\n",
    "plt.rcParams['image.cmap'] = 'gray'\n",
    "\n",
    "# for auto-reloading external modules\n",
    "# see http://stackoverflow.com/questions/1907993/autoreload-of-modules-in-ipython\n",
    "%load_ext autoreload\n",
    "%autoreload 2"
   ]
  },
  {
   "cell_type": "markdown",
   "metadata": {},
   "source": [
    "## Train and validation data\n",
    "For an easier management of the train and validation data pipelines we provide you with custom `torch.utils.data.Dataset` classes. Make yourself familiar with those `Dataset` classes as well as the `DataLoader` and how you have to integrate them in your training. The `num_workers` attribute allows you to preprocess data with multiple threads.\n",
    "\n",
    "http://pytorch.org/docs/data.html"
   ]
  },
  {
   "cell_type": "code",
   "execution_count": 2,
   "metadata": {},
   "outputs": [
    {
     "name": "stdout",
     "output_type": "stream",
     "text": [
      "Train size: 48000\n",
      "Val size: 1000\n",
      "Test size: 1000\n"
     ]
    }
   ],
   "source": [
    "# Load the (preprocessed) CIFAR10 data. Preprocessing and dataset splitting is done\n",
    "# as in 1_softmax.ipynb from exercise 1.\n",
    "# This can take a while.\n",
    "\n",
    "train_data, val_data, test_data, mean_image = get_CIFAR10_data()\n",
    "print(\"Train size: %i\" % len(train_data))\n",
    "print(\"Val size: %i\" % len(val_data))\n",
    "print(\"Test size: %i\" % len(test_data))"
   ]
  },
  {
   "cell_type": "code",
   "execution_count": 3,
   "metadata": {},
   "outputs": [
    {
     "name": "stdout",
     "output_type": "stream",
     "text": [
      "Img size: torch.Size([3, 32, 32])\n",
      "Example image:\n"
     ]
    },
    {
     "data": {
      "image/png": "[encoded data removed]",
      "text/plain": [
       "<matplotlib.figure.Figure at 0x7f3fe84ff690>"
      ]
     },
     "metadata": {},
     "output_type": "display_data"
    }
   ],
   "source": [
    "img, label = train_data[2]\n",
    "print(\"Img size: \" + str(img.size()))\n",
    "plt.figure(figsize = (10,1))\n",
    "print(\"Example image:\")\n",
    "plt.imshow(img.numpy().transpose(1,2,0) + mean_image.transpose(1,2,0))\n",
    "plt.show()"
   ]
  },
  {
   "cell_type": "markdown",
   "metadata": {},
   "source": [
    "## Model initialization and forward pass \n",
    "\n",
    "After you understood the core concepts of PyTorch and have a rough idea on how to implement your own model complete the initialization and forward methods of the `ThreeLayerCNN` in the `dl4cv/classifiers/cnn.py` file. Note that we do not have to implement a backward pass since this is automatically done by the framework using its dynamic graph structure.\n",
    "\n",
    "Use the cell below to check your results."
   ]
  },
  {
   "cell_type": "code",
   "execution_count": 4,
   "metadata": {},
   "outputs": [
    {
     "name": "stdout",
     "output_type": "stream",
     "text": [
      "Difference between the correct and your forward pass:\n",
      "[[-0.012747    0.05964366  0.03898076]\n",
      " [-0.01286934  0.05963349  0.03903975]]\n",
      "[[-0.012747    0.05964366  0.03898076]\n",
      " [-0.01286934  0.05963349  0.03903975]]\n",
      "1.10708380463e-07\n"
     ]
    }
   ],
   "source": [
    "from dl4cv.classifiers.cnn import ThreeLayerCNN\n",
    "\n",
    "torch.manual_seed(0)\n",
    "np.random.seed(0)\n",
    "\n",
    "X = np.random.randn(2, 3, 5, 5).astype(np.float32)\n",
    "X_tensor = torch.from_numpy(X.copy())\n",
    "inputs = Variable(X_tensor)\n",
    "\n",
    "model = ThreeLayerCNN(input_dim=(3, 5, 5), num_classes=3)\n",
    "outputs = model.forward(inputs)\n",
    "correct_outputs = np.array([[-0.012747,    0.05964366,  0.03898076],\n",
    "                            [-0.01286934,  0.05963349,  0.03903975]])\n",
    "\n",
    "# The difference should be very small. We get < 1e-6\n",
    "print 'Difference between the correct and your forward pass:'\n",
    "print correct_outputs\n",
    "print outputs.data.numpy()\n",
    "print rel_error(correct_outputs, outputs.data.numpy())"
   ]
  },
  {
   "cell_type": "markdown",
   "metadata": {},
   "source": [
    "## Training and validation with the Solver\n",
    "We train and validate our previously generated model with a seperate `Solver` class defined in `dl4cv/classifiers/solver.py`. Complete the training method and try to come up with an efficient iteration scheme as well as an informative training logger.\n",
    "\n",
    "Use the cells below to test your solver. A nice trick is to train your model with just a few training samples. You should be able to overfit small datasets, which will result in very high training accuracy and comparatively low validation accuracy."
   ]
  },
  {
   "cell_type": "code",
   "execution_count": 5,
   "metadata": {},
   "outputs": [
    {
     "name": "stdout",
     "output_type": "stream",
     "text": [
      "START TRAIN.\n",
      "[Iteration 0/2] TRAIN loss: 2.30955266953\n",
      "[Iteration 1/2] TRAIN loss: 4.42378664017\n",
      "[Epoch 1/20] TRAIN acc/loss: 0.13/4.42378664017\n",
      "[Epoch 1/20] VAL acc/loss: 0.111/2.47486758232\n",
      "[Iteration 0/2] TRAIN loss: 2.56933021545\n",
      "[Iteration 1/2] TRAIN loss: 2.72450947762\n",
      "[Epoch 2/20] TRAIN acc/loss: 0.1/2.72450947762\n",
      "[Epoch 2/20] VAL acc/loss: 0.1/2.7563931942\n",
      "[Iteration 0/2] TRAIN loss: 2.90256285667\n",
      "[Iteration 1/2] TRAIN loss: 2.27698922157\n",
      "[Epoch 3/20] TRAIN acc/loss: 0.15/2.27698922157\n",
      "[Epoch 3/20] VAL acc/loss: 0.14/2.27134728432\n",
      "[Iteration 0/2] TRAIN loss: 2.22757935524\n",
      "[Iteration 1/2] TRAIN loss: 2.00292944908\n",
      "[Epoch 4/20] TRAIN acc/loss: 0.31/2.00292944908\n",
      "[Epoch 4/20] VAL acc/loss: 0.168/2.1313419342\n",
      "[Iteration 0/2] TRAIN loss: 2.00823259354\n",
      "[Iteration 1/2] TRAIN loss: 1.7661460638\n",
      "[Epoch 5/20] TRAIN acc/loss: 0.35/1.7661460638\n",
      "[Epoch 5/20] VAL acc/loss: 0.191/2.15329957008\n",
      "[Iteration 0/2] TRAIN loss: 1.80756521225\n",
      "[Iteration 1/2] TRAIN loss: 1.42202341557\n",
      "[Epoch 6/20] TRAIN acc/loss: 0.46/1.42202341557\n",
      "[Epoch 6/20] VAL acc/loss: 0.197/2.36580395699\n",
      "[Iteration 0/2] TRAIN loss: 1.61744070053\n",
      "[Iteration 1/2] TRAIN loss: 1.16531062126\n",
      "[Epoch 7/20] TRAIN acc/loss: 0.52/1.16531062126\n",
      "[Epoch 7/20] VAL acc/loss: 0.204/2.57348537445\n",
      "[Iteration 0/2] TRAIN loss: 1.40246021748\n",
      "[Iteration 1/2] TRAIN loss: 0.936037838459\n",
      "[Epoch 8/20] TRAIN acc/loss: 0.63/0.936037838459\n",
      "[Epoch 8/20] VAL acc/loss: 0.208/2.97255158424\n",
      "[Iteration 0/2] TRAIN loss: 1.20277309418\n",
      "[Iteration 1/2] TRAIN loss: 0.728134453297\n",
      "[Epoch 9/20] TRAIN acc/loss: 0.7/0.728134453297\n",
      "[Epoch 9/20] VAL acc/loss: 0.207/3.40865778923\n",
      "[Iteration 0/2] TRAIN loss: 0.86819589138\n",
      "[Iteration 1/2] TRAIN loss: 0.631317555904\n",
      "[Epoch 10/20] TRAIN acc/loss: 0.76/0.631317555904\n",
      "[Epoch 10/20] VAL acc/loss: 0.208/3.88429927826\n",
      "[Iteration 0/2] TRAIN loss: 0.648152947426\n",
      "[Iteration 1/2] TRAIN loss: 0.497478038073\n",
      "[Epoch 11/20] TRAIN acc/loss: 0.79/0.497478038073\n",
      "[Epoch 11/20] VAL acc/loss: 0.208/4.42668199539\n",
      "[Iteration 0/2] TRAIN loss: 0.523421764374\n",
      "[Iteration 1/2] TRAIN loss: 0.359987765551\n",
      "[Epoch 12/20] TRAIN acc/loss: 0.85/0.359987765551\n",
      "[Epoch 12/20] VAL acc/loss: 0.198/5.02996873856\n",
      "[Iteration 0/2] TRAIN loss: 0.415760457516\n",
      "[Iteration 1/2] TRAIN loss: 0.228147894144\n",
      "[Epoch 13/20] TRAIN acc/loss: 0.9/0.228147894144\n",
      "[Epoch 13/20] VAL acc/loss: 0.203/5.64990186691\n",
      "[Iteration 0/2] TRAIN loss: 0.333310484886\n",
      "[Iteration 1/2] TRAIN loss: 0.154210790992\n",
      "[Epoch 14/20] TRAIN acc/loss: 0.93/0.154210790992\n",
      "[Epoch 14/20] VAL acc/loss: 0.201/6.24362134933\n",
      "[Iteration 0/2] TRAIN loss: 0.245142817497\n",
      "[Iteration 1/2] TRAIN loss: 0.0941467583179\n",
      "[Epoch 15/20] TRAIN acc/loss: 0.96/0.0941467583179\n",
      "[Epoch 15/20] VAL acc/loss: 0.198/7.04755210876\n",
      "[Iteration 0/2] TRAIN loss: 0.158437460661\n",
      "[Iteration 1/2] TRAIN loss: 0.0554561913013\n",
      "[Epoch 16/20] TRAIN acc/loss: 0.98/0.0554561913013\n",
      "[Epoch 16/20] VAL acc/loss: 0.195/7.96486568451\n",
      "[Iteration 0/2] TRAIN loss: 0.102928370237\n",
      "[Iteration 1/2] TRAIN loss: 0.0370363816619\n",
      "[Epoch 17/20] TRAIN acc/loss: 0.99/0.0370363816619\n",
      "[Epoch 17/20] VAL acc/loss: 0.198/8.91711044312\n",
      "[Iteration 0/2] TRAIN loss: 0.062198150903\n",
      "[Iteration 1/2] TRAIN loss: 0.0285160597414\n",
      "[Epoch 18/20] TRAIN acc/loss: 1.0/0.0285160597414\n",
      "[Epoch 18/20] VAL acc/loss: 0.201/9.80424404144\n",
      "[Iteration 0/2] TRAIN loss: 0.037241153419\n",
      "[Iteration 1/2] TRAIN loss: 0.0160777512938\n",
      "[Epoch 19/20] TRAIN acc/loss: 1.0/0.0160777512938\n",
      "[Epoch 19/20] VAL acc/loss: 0.2/10.5527648926\n",
      "[Iteration 0/2] TRAIN loss: 0.0229973699898\n",
      "[Iteration 1/2] TRAIN loss: 0.00848886929452\n",
      "[Epoch 20/20] TRAIN acc/loss: 1.0/0.00848886929452\n",
      "[Epoch 20/20] VAL acc/loss: 0.201/11.2835559845\n",
      "FINISH.\n"
     ]
    }
   ],
   "source": [
    "from dl4cv.classifiers.cnn import ThreeLayerCNN\n",
    "from dl4cv.classifiers.solver import Solver\n",
    "\n",
    "num_train = 100\n",
    "train_loader = torch.utils.data.DataLoader(train_data, batch_size=50, shuffle=False, num_workers=4,\n",
    "                                           sampler=OverfitSampler(num_train))\n",
    "val_loader = torch.utils.data.DataLoader(val_data, batch_size=50, shuffle=False, num_workers=4)\n",
    "\n",
    "overfit_model = ThreeLayerCNN()\n",
    "overfit_solver = Solver(optim_args={\"lr\": 1e-2})\n",
    "overfit_solver.train(overfit_model, train_loader, val_loader, log_nth=1, num_epochs=20)"
   ]
  },
  {
   "cell_type": "markdown",
   "metadata": {},
   "source": [
    "Plotting the loss, training accuracy, and validation accuracy should show clear overfitting:"
   ]
  },
  {
   "cell_type": "code",
   "execution_count": 6,
   "metadata": {},
   "outputs": [
    {
     "data": {
      "image/png": "[encoded data removed]",
      "text/plain": [
       "<matplotlib.figure.Figure at 0x7f3f92ba4e90>"
      ]
     },
     "metadata": {},
     "output_type": "display_data"
    }
   ],
   "source": [
    "plt.subplot(2, 1, 1)\n",
    "plt.plot(overfit_solver.train_loss_history, 'o')\n",
    "plt.xlabel('iteration')\n",
    "plt.ylabel('loss')\n",
    "\n",
    "plt.subplot(2, 1, 2)\n",
    "plt.plot(overfit_solver.train_acc_history, '-o')\n",
    "plt.plot(overfit_solver.val_acc_history, '-o')\n",
    "plt.legend(['train', 'val'], loc='upper left')\n",
    "plt.xlabel('epoch')\n",
    "plt.ylabel('accuracy')\n",
    "plt.show()"
   ]
  },
  {
   "cell_type": "markdown",
   "metadata": {},
   "source": [
    "## Train the net\n",
    "By training the three-layer convolutional network for one epoch, you should achieve greater than 40% accuracy on the validation set."
   ]
  },
  {
   "cell_type": "code",
   "execution_count": 7,
   "metadata": {
    "scrolled": false
   },
   "outputs": [
    {
     "name": "stdout",
     "output_type": "stream",
     "text": [
      "START TRAIN.\n",
      "[Iteration 0/960] TRAIN loss: 2.29916620255\n",
      "[Iteration 100/960] TRAIN loss: 1.80076277256\n",
      "[Iteration 200/960] TRAIN loss: 1.56430613995\n",
      "[Iteration 300/960] TRAIN loss: 1.4713408947\n",
      "[Iteration 400/960] TRAIN loss: 1.37868666649\n",
      "[Iteration 500/960] TRAIN loss: 1.10286176205\n",
      "[Iteration 600/960] TRAIN loss: 1.48551273346\n",
      "[Iteration 700/960] TRAIN loss: 1.37527477741\n",
      "[Iteration 800/960] TRAIN loss: 1.51730239391\n",
      "[Iteration 900/960] TRAIN loss: 1.25379192829\n",
      "[Epoch 1/5] TRAIN acc/loss: 0.459541666667/1.24201142788\n",
      "[Epoch 1/5] VAL acc/loss: 0.537/1.08016002178\n",
      "[Iteration 0/960] TRAIN loss: 1.23238229752\n",
      "[Iteration 100/960] TRAIN loss: 1.47352743149\n",
      "[Iteration 200/960] TRAIN loss: 0.796373069286\n",
      "[Iteration 300/960] TRAIN loss: 1.17900598049\n",
      "[Iteration 400/960] TRAIN loss: 1.4986320734\n",
      "[Iteration 500/960] TRAIN loss: 1.48337769508\n",
      "[Iteration 600/960] TRAIN loss: 1.48041820526\n",
      "[Iteration 700/960] TRAIN loss: 1.44856536388\n",
      "[Iteration 800/960] TRAIN loss: 1.21242010593\n",
      "[Iteration 900/960] TRAIN loss: 1.05602407455\n",
      "[Epoch 2/5] TRAIN acc/loss: 0.565333333333/1.02033686638\n",
      "[Epoch 2/5] VAL acc/loss: 0.571/0.777822315693\n",
      "[Iteration 0/960] TRAIN loss: 1.46318697929\n",
      "[Iteration 100/960] TRAIN loss: 1.36894154549\n",
      "[Iteration 200/960] TRAIN loss: 1.32794177532\n",
      "[Iteration 300/960] TRAIN loss: 1.06969189644\n",
      "[Iteration 400/960] TRAIN loss: 0.995602011681\n",
      "[Iteration 500/960] TRAIN loss: 0.987898647785\n",
      "[Iteration 600/960] TRAIN loss: 0.983300387859\n",
      "[Iteration 700/960] TRAIN loss: 0.844344377518\n",
      "[Iteration 800/960] TRAIN loss: 1.59837520123\n",
      "[Iteration 900/960] TRAIN loss: 0.916179835796\n",
      "[Epoch 3/5] TRAIN acc/loss: 0.606416666667/1.19715023041\n",
      "[Epoch 3/5] VAL acc/loss: 0.603/0.843351364136\n",
      "[Iteration 0/960] TRAIN loss: 1.02830958366\n",
      "[Iteration 100/960] TRAIN loss: 1.2208763361\n",
      "[Iteration 200/960] TRAIN loss: 1.08255207539\n",
      "[Iteration 300/960] TRAIN loss: 1.05557274818\n",
      "[Iteration 400/960] TRAIN loss: 1.529312253\n",
      "[Iteration 500/960] TRAIN loss: 1.21016466618\n",
      "[Iteration 600/960] TRAIN loss: 0.831751227379\n",
      "[Iteration 700/960] TRAIN loss: 1.25115847588\n",
      "[Iteration 800/960] TRAIN loss: 1.02482843399\n",
      "[Iteration 900/960] TRAIN loss: 1.30391538143\n",
      "[Epoch 4/5] TRAIN acc/loss: 0.6438125/0.9507843256\n",
      "[Epoch 4/5] VAL acc/loss: 0.629/0.716487407684\n",
      "[Iteration 0/960] TRAIN loss: 0.924054563046\n",
      "[Iteration 100/960] TRAIN loss: 0.949744999409\n",
      "[Iteration 200/960] TRAIN loss: 0.801893472672\n",
      "[Iteration 300/960] TRAIN loss: 0.886106669903\n",
      "[Iteration 400/960] TRAIN loss: 0.844873607159\n",
      "[Iteration 500/960] TRAIN loss: 1.11553585529\n",
      "[Iteration 600/960] TRAIN loss: 1.2346175909\n",
      "[Iteration 700/960] TRAIN loss: 0.951773822308\n",
      "[Iteration 800/960] TRAIN loss: 1.01092028618\n",
      "[Iteration 900/960] TRAIN loss: 1.18385982513\n",
      "[Epoch 5/5] TRAIN acc/loss: 0.666125/0.856347441673\n",
      "[Epoch 5/5] VAL acc/loss: 0.652/0.712195217609\n",
      "FINISH.\n"
     ]
    }
   ],
   "source": [
    "from dl4cv.classifiers.cnn import ThreeLayerCNN\n",
    "from dl4cv.classifiers.solver import Solver\n",
    "\n",
    "train_loader = torch.utils.data.DataLoader(train_data, batch_size=50, shuffle=True, num_workers=4)\n",
    "val_loader = torch.utils.data.DataLoader(val_data, batch_size=50, shuffle=False, num_workers=4)\n",
    "\n",
    "############################################################################\n",
    "# TODO: Train your network and find the best hyperparameters               #\n",
    "############################################################################\n",
    "        \n",
    "model = ThreeLayerCNN(hidden_dim=500)\n",
    "solver = Solver(optim_args={\"lr\": 1e-3, \"weight_decay\": 0.001})\n",
    "solver.train(model, train_loader, val_loader, log_nth=100, num_epochs=5)"
   ]
  },
  {
   "cell_type": "markdown",
   "metadata": {},
   "source": [
    "## Visualize Filters\n",
    "You can visualize the first-layer convolutional filters from the trained network by running the following. If your kernel visualizations do not exhibit clear structures try optimizing the weight scale:"
   ]
  },
  {
   "cell_type": "code",
   "execution_count": 8,
   "metadata": {
    "scrolled": false
   },
   "outputs": [
    {
     "data": {
      "image/png": "[encoded data removed]",
      "text/plain": [
       "<matplotlib.figure.Figure at 0x7f3f93338650>"
      ]
     },
     "metadata": {},
     "output_type": "display_data"
    }
   ],
   "source": [
    "from dl4cv.vis_utils import visualize_grid\n",
    "\n",
    "model.cpu()\n",
    "\n",
    "conv_params = model.conv.weight.data.numpy()\n",
    "grid = visualize_grid(conv_params.transpose(0, 2, 3, 1))\n",
    "plt.imshow(grid.astype('uint8'))\n",
    "plt.axis('off')\n",
    "plt.gcf().set_size_inches(6, 6)\n",
    "plt.show()"
   ]
  },
  {
   "cell_type": "markdown",
   "metadata": {},
   "source": [
    "# Test your model\n",
    "Run your best model on the validation and test sets. You should achieve above 58% accuracy on the test set."
   ]
  },
  {
   "cell_type": "code",
   "execution_count": 9,
   "metadata": {},
   "outputs": [
    {
     "name": "stdout",
     "output_type": "stream",
     "text": [
      "Test set accuracy: 0.659000\n"
     ]
    }
   ],
   "source": [
    "test_loader = torch.utils.data.DataLoader(test_data, batch_size=50, shuffle=False, num_workers=4)\n",
    "\n",
    "scores = []\n",
    "for batch in test_loader:\n",
    "    inputs, labels = Variable(batch[0]), Variable(batch[1])\n",
    "\n",
    "    outputs = model(inputs)\n",
    "    _, preds = torch.max(outputs, 1)\n",
    "    scores.extend((preds == labels).data.numpy())\n",
    "    \n",
    "print 'Test set accuracy: %f' % np.mean(scores)"
   ]
  },
  {
   "cell_type": "markdown",
   "metadata": {},
   "source": [
    "## Save the model\n",
    "\n",
    "When you are satisfied with your training, save the model for submission."
   ]
  },
  {
   "cell_type": "code",
   "execution_count": 10,
   "metadata": {},
   "outputs": [
    {
     "name": "stdout",
     "output_type": "stream",
     "text": [
      "Saving model... models/three_layer_cnn.model\n"
     ]
    }
   ],
   "source": [
    "model.save(\"models/three_layer_cnn.model\")"
   ]
  },
  {
   "cell_type": "markdown",
   "metadata": {
    "collapsed": true
   },
   "source": [
    "## Scoring function\n",
    "We will score the model you have just saved based on the classification accuracy on our test dataset. The scoring function should represent the difficulty of obtaining a good test accuracy and should therefore give 0 points for worse results than random guessing, should be linear in a first regime and exponential beyond that. The onset of exponential growth depends on the problem. In that region you get twice as many points for an additional 10% accuracy.\n",
    "\n",
    "For this problem we specifically use the following scoring function:\n",
    "\n",
    "$$f(x) = \\left\\{\n",
    "\t\\begin{array}{ll}\n",
    "\t\t0  & \\mbox{if } x \\leq 0.1 \\\\\n",
    "\t\t100x & \\mbox{if } 0.1 < x \\leq 0.58 \\\\\n",
    "        \\left(\\frac{58}{\\exp(0.58 \\ln(2)/0.1)}\\right) \\exp(x \\ln(2)/0.1) & \\mbox{if } 0.58 < x \\leq 1\n",
    "\t\\end{array}\n",
    "\\right.$$\n",
    "\n",
    "The function can be plotted in the following cell."
   ]
  },
  {
   "cell_type": "code",
   "execution_count": 11,
   "metadata": {},
   "outputs": [
    {
     "data": {
      "image/png": "[encoded data removed]",
      "text/plain": [
       "<matplotlib.figure.Figure at 0x7f3f8c352a90>"
      ]
     },
     "metadata": {},
     "output_type": "display_data"
    }
   ],
   "source": [
    "from dl4cv.data_utils import scoring_function\n",
    "\n",
    "x = np.linspace(0, 1, num=1000)\n",
    "plt.plot(x, scoring_function(x, lin_exp_boundary=0.58, doubling_rate=0.1))\n",
    "plt.title('Scoring Function')\n",
    "plt.xlabel('Test Accuracy')\n",
    "plt.ylabel('Score')\n",
    "plt.show()"
   ]
  },
  {
   "cell_type": "code",
   "execution_count": null,
   "metadata": {
    "collapsed": true
   },
   "outputs": [],
   "source": []
  }
 ],
 "metadata": {
  "kernelspec": {
   "display_name": "Python 2",
   "language": "python",
   "name": "python2"
  },
  "language_info": {
   "codemirror_mode": {
    "name": "ipython",
    "version": 2
   },
   "file_extension": ".py",
   "mimetype": "text/x-python",
   "name": "python",
   "nbconvert_exporter": "python",
   "pygments_lexer": "ipython2",
   "version": "2.7.13"
  }
 },
 "nbformat": 4,
 "nbformat_minor": 1
}
